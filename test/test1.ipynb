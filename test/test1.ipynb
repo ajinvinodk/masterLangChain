{
 "cells": [
  {
   "cell_type": "code",
   "execution_count": 1,
   "id": "948f25df",
   "metadata": {
    "_cell_guid": "0636e8a9-ad61-4959-8968-d81fe23774b5",
    "_uuid": "875ce103-0bc4-466b-98f5-9950714bcb3b",
    "collapsed": false,
    "execution": {
     "iopub.execute_input": "2024-07-18T10:39:17.071748Z",
     "iopub.status.busy": "2024-07-18T10:39:17.071357Z",
     "iopub.status.idle": "2024-07-18T10:39:17.086313Z",
     "shell.execute_reply": "2024-07-18T10:39:17.085139Z"
    },
    "jupyter": {
     "outputs_hidden": false
    },
    "papermill": {
     "duration": 0.02121,
     "end_time": "2024-07-18T10:39:17.088953",
     "exception": false,
     "start_time": "2024-07-18T10:39:17.067743",
     "status": "completed"
    },
    "tags": []
   },
   "outputs": [],
   "source": [
    "import numpy\n",
    "import matplotlib"
   ]
  }
 ],
 "metadata": {
  "kaggle": {
   "accelerator": "none",
   "dataSources": [],
   "dockerImageVersionId": 30746,
   "isGpuEnabled": false,
   "isInternetEnabled": true,
   "language": "python",
   "sourceType": "notebook"
  },
  "kernelspec": {
   "display_name": "Python 3",
   "language": "python",
   "name": "python3"
  },
  "language_info": {
   "codemirror_mode": {
    "name": "ipython",
    "version": 3
   },
   "file_extension": ".py",
   "mimetype": "text/x-python",
   "name": "python",
   "nbconvert_exporter": "python",
   "pygments_lexer": "ipython3",
   "version": "3.10.13"
  },
  "papermill": {
   "default_parameters": {},
   "duration": 3.609341,
   "end_time": "2024-07-18T10:39:17.511003",
   "environment_variables": {},
   "exception": null,
   "input_path": "__notebook__.ipynb",
   "output_path": "__notebook__.ipynb",
   "parameters": {},
   "start_time": "2024-07-18T10:39:13.901662",
   "version": "2.5.0"
  }
 },
 "nbformat": 4,
 "nbformat_minor": 5
}
